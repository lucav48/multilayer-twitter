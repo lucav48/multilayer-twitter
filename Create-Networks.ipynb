{
 "cells": [
  {
   "cell_type": "markdown",
   "id": "ae797c48",
   "metadata": {},
   "source": [
    "## LOAD LIBRARIES"
   ]
  },
  {
   "cell_type": "code",
   "execution_count": null,
   "id": "6654584c",
   "metadata": {},
   "outputs": [],
   "source": [
    "import pandas as pd\n",
    "import json\n",
    "import os\n",
    "import networkx as nx\n",
    "import tweepy\n",
    "import seaborn as sns\n",
    "import matplotlib.pyplot as plt\n",
    "import numpy as np\n",
    "import spacy\n",
    "from tqdm import tqdm\n",
    "\n",
    "nlp = spacy.load(\"en_core_web_sm\")\n",
    "\n",
    "base_path = \"dataset/\"\n",
    "\n",
    "file_verified_users = \"verified_users.txt\"\n",
    "file_verified_tweets = \"verified_tweets.txt\"\n",
    "\n",
    "def graph_statistics(graph, plot=True):\n",
    "    print(\"NODES:\", len(graph.nodes))\n",
    "    print(\"EDGES:\", len(graph.edges))\n",
    "    print(\"DENSITY: {:0.2}\".format(nx.density(graph)))\n",
    "    print(\"CONNECTED COMPONENTS:\", nx.number_connected_components(graph))\n",
    "    print(\"MAX CONNECTED COMPONENTS: \", max([len(x) for x in nx.connected_components(graph)]))\n",
    "    print(\"CLUSTERING: {:0.2}\".format(nx.average_clustering(graph)))\n",
    "    if plot:\n",
    "        plt.figure(figsize=(12,8))\n",
    "        plt.title(\"CONNECTED COMPONENT DIMENSIONS\")\n",
    "        sns.histplot([len(x) for x in nx.connected_components(graph)], bins=100)\n",
    "    \n",
    "def centrality(graph, k=10):\n",
    "    # degree\n",
    "    degree = nx.degree_centrality(graph)\n",
    "    degree = {k: v for k, v in sorted(degree.items(), key=lambda item: item[1], reverse=True)}\n",
    "    # closeness\n",
    "    clo = nx.closeness_centrality(graph)\n",
    "    clo = {k: v for k, v in sorted(clo.items(), key=lambda item: item[1], reverse=True)}\n",
    "    \n",
    "    print(\"TOP USERS BY DEGREE\")\n",
    "    print(list(degree.keys())[:k])\n",
    "    print(\"TOP USERS BY CLOSENESS\")\n",
    "    print(list(clo.keys())[:k])\n",
    "    print(\"INTERSECTION\")\n",
    "    common = set(list(degree.keys())[:k]).intersection(list(clo.keys())[:k])\n",
    "    print(common)\n",
    "    \n",
    "    fig, ax = plt.subplots(2,1,figsize=(12,8))\n",
    "    ax[0].title.set_text(\"DEGREE CENTRALITY\")\n",
    "    sns.histplot(list(degree.values()), bins=50, ax=ax[0])\n",
    "    ax[1].title.set_text(\"CLOSENESS CENTRALITY\")\n",
    "    sns.histplot(list(clo.values()), bins=50, ax=ax[1])\n",
    "    return common"
   ]
  },
  {
   "cell_type": "code",
   "execution_count": null,
   "id": "d78390bb",
   "metadata": {},
   "outputs": [],
   "source": [
    "!python -m spacy download en_core_web_sm"
   ]
  },
  {
   "cell_type": "markdown",
   "id": "8161a160",
   "metadata": {},
   "source": [
    "## LOAD TWEETS AND USERS DATAFRAME AND ADD NEW FEATURES"
   ]
  },
  {
   "cell_type": "code",
   "execution_count": null,
   "id": "c23d9781",
   "metadata": {},
   "outputs": [],
   "source": [
    "tweets = json.load(open(base_path + file_verified_tweets, \"r\"))\n",
    "users  = open(base_path + file_verified_users, \"r\").read().split(\"\\n\")"
   ]
  },
  {
   "cell_type": "code",
   "execution_count": null,
   "id": "19ede7f1",
   "metadata": {},
   "outputs": [],
   "source": [
    "df = pd.DataFrame.from_records(tweets)\n",
    "df[\"created_at\"] = pd.to_datetime(df[\"created_at\"])\n",
    "df[\"screen_name\"] = df[\"user\"].apply(lambda x: x[\"screen_name\"])\n",
    "df[\"followers\"] = df[\"user\"].apply(lambda x: x[\"followers_count\"])\n",
    "df[\"following\"] = df[\"user\"].apply(lambda x: x[\"friends_count\"])\n",
    "df[\"hashtags\"] = df[\"entities\"].apply(lambda x: [y[\"text\"] for y in x[\"hashtags\"]])\n",
    "df[\"entity_text\"] = df[\"full_text\"].apply(lambda x: [y.text for y in nlp(x).ents])\n",
    "df[\"entity_text\"] = df[\"entity_text\"].apply(lambda x: [y.replace(\"RT \", \"\") for y in x\n",
    "                                                      if y not in [\"#\", \"RT\", \"one\", \"today\", \"two\",\n",
    "                                                                  \"1\", \"2\", \"first\", \"second\", \"this summer\"]])"
   ]
  },
  {
   "cell_type": "markdown",
   "id": "69fcaf37",
   "metadata": {},
   "source": [
    "## EXPLORATORY DATA ANALYSIS"
   ]
  },
  {
   "cell_type": "code",
   "execution_count": null,
   "id": "4d5373c4",
   "metadata": {},
   "outputs": [],
   "source": [
    "print(\"TWEETS:\", len(df))\n",
    "print(\"USERS:\", len(users))\n",
    "print(\"FIRST TWEET:\", df[\"created_at\"].min())\n",
    "print(\"LAST TWEET:\", df[\"created_at\"].max())\n",
    "print(\"# RETWEETED:\", len(df.loc[~df[\"retweeted_status\"].isna()]))\n",
    "print(\"MAX FOLLOWERS:\", df[\"followers\"].max(), \"(\" , df.loc[df[\"followers\"] == df[\"followers\"].max()][\"screen_name\"].values[0], \")\")\n",
    "print(\"MIN FOLLOWERS:\", df[\"followers\"].min(), \"(\" , df.loc[df[\"followers\"] == df[\"followers\"].min()][\"screen_name\"].values[0], \")\")\n",
    "print(\"MAX FOLLOWING:\", df[\"following\"].max(), \"(\" , df.loc[df[\"following\"] == df[\"following\"].max()][\"screen_name\"].values[0], \")\")\n",
    "print(\"MIN FOLLOWING:\", df[\"following\"].min(), \"(\" , df.loc[df[\"following\"] == df[\"following\"].min()][\"screen_name\"].values[0], \")\")"
   ]
  },
  {
   "cell_type": "code",
   "execution_count": null,
   "id": "b2f701e5",
   "metadata": {},
   "outputs": [],
   "source": [
    "plt.figure(figsize=(12,8))\n",
    "plt.title(\"# TWEETS BY AUTHOR\")\n",
    "sns.boxplot(x=df.groupby(\"screen_name\")[\"screen_name\"].count().values)"
   ]
  },
  {
   "cell_type": "code",
   "execution_count": null,
   "id": "13260e87",
   "metadata": {},
   "outputs": [],
   "source": [
    "fig, ax = plt.subplots(1,2,figsize=(12,8))\n",
    "fig.suptitle(\"FOLLOWERS VS FOLLOWING\")\n",
    "sns.boxplot(x=df.groupby(\"screen_name\")[\"followers\"].last().values, ax=ax[0])\n",
    "sns.boxplot(x=df.groupby(\"screen_name\")[\"following\"].last().values, ax=ax[1])"
   ]
  },
  {
   "cell_type": "code",
   "execution_count": null,
   "id": "43ed586f",
   "metadata": {},
   "outputs": [],
   "source": [
    "plt.figure(figsize=(12,8))\n",
    "plt.title(\"HASHTAGS\")\n",
    "h = [x for y in df[\"hashtags\"].to_list() for x in y]\n",
    "h = pd.Series(h).value_counts()[:20]\n",
    "sns.barplot(x=h.values, y=h.index, orient=\"h\")"
   ]
  },
  {
   "cell_type": "code",
   "execution_count": null,
   "id": "e21b0ffb",
   "metadata": {},
   "outputs": [],
   "source": [
    "plt.figure(figsize=(12,8))\n",
    "plt.title(\"ENTITY IN FULL_TEXT\")\n",
    "h = [x for y in df[\"entity_text\"].to_list() for x in y]\n",
    "h = pd.Series(h).value_counts()[:20]\n",
    "sns.barplot(x=h.values, y=h.index, orient=\"h\")"
   ]
  },
  {
   "cell_type": "code",
   "execution_count": null,
   "id": "0c5f9027",
   "metadata": {},
   "outputs": [],
   "source": [
    "plt.figure(figsize=(12,8))\n",
    "plt.title(\"ENTITY IN FULL_TEXT\")\n",
    "h = [x for y in df[\"entity_text\"].to_list() for x in y if \"@\" in x]\n",
    "new_h = []\n",
    "for x in h:\n",
    "    if \" \" in x:\n",
    "        c = x.split(\" \")\n",
    "        for y in c:\n",
    "            if \"@\" in y:\n",
    "                new_h.append(y)\n",
    "    else:\n",
    "        new_h.append(x)\n",
    "\n",
    "h = pd.Series(new_h).value_counts()[:20]\n",
    "sns.barplot(x=h.values, y=h.index, orient=\"h\")"
   ]
  },
  {
   "cell_type": "markdown",
   "id": "940cafdc",
   "metadata": {},
   "source": [
    "## CREATE REPLY NETWORK"
   ]
  },
  {
   "cell_type": "code",
   "execution_count": null,
   "id": "821ec2d1",
   "metadata": {},
   "outputs": [],
   "source": [
    "# create nodes\n",
    "reply_graph = nx.Graph()\n",
    "\n",
    "for u in users:\n",
    "    reply_graph.add_node(u.split(\",\")[0])"
   ]
  },
  {
   "cell_type": "code",
   "execution_count": null,
   "id": "5941996b",
   "metadata": {},
   "outputs": [],
   "source": [
    "# create edges\n",
    "for t in tweets:\n",
    "    if t[\"in_reply_to_screen_name\"] in reply_graph.nodes:\n",
    "        a, b = t[\"user\"][\"screen_name\"], t[\"in_reply_to_screen_name\"]\n",
    "        if reply_graph.has_edge(a, b) or reply_graph.has_edge(b, a):\n",
    "            reply_graph[a][b][\"weight\"] = reply_graph[a][b][\"weight\"] + 1\n",
    "        else:\n",
    "            reply_graph.add_edge(a, b, weight=1)"
   ]
  },
  {
   "cell_type": "code",
   "execution_count": null,
   "id": "6c3d0b51",
   "metadata": {},
   "outputs": [],
   "source": [
    "# save\n",
    "nx.write_gexf(reply_graph, \"network/reply_to.gexf\")"
   ]
  },
  {
   "cell_type": "markdown",
   "id": "b83b8ede",
   "metadata": {},
   "source": [
    "## CREATE RETWEET NETWORK"
   ]
  },
  {
   "cell_type": "code",
   "execution_count": null,
   "id": "0aaa2fb8",
   "metadata": {},
   "outputs": [],
   "source": [
    "# create nodes\n",
    "retweet_graph = nx.Graph()\n",
    "\n",
    "for u in users:\n",
    "    retweet_graph.add_node(u.split(\",\")[0])"
   ]
  },
  {
   "cell_type": "code",
   "execution_count": null,
   "id": "ff404e27",
   "metadata": {},
   "outputs": [],
   "source": [
    "# create edges\n",
    "retweet = df.loc[~df[\"retweeted_status\"].isna()].copy(deep=True)\n",
    "retweet[\"retweet_screen_name\"] = retweet[\"retweeted_status\"].apply(lambda x: x[\"user\"][\"screen_name\"])\n",
    "\n",
    "for _, t in retweet.iterrows():\n",
    "    a, b = t[\"screen_name\"], t[\"retweet_screen_name\"]\n",
    "    if a in retweet_graph.nodes and b in retweet_graph.nodes:\n",
    "        if retweet_graph.has_edge(a, b) or retweet_graph.has_edge(b, a):\n",
    "            retweet_graph[a][b][\"weight\"] = retweet_graph[a][b][\"weight\"] + 1\n",
    "        else:\n",
    "            retweet_graph.add_edge(a, b, weight=1)"
   ]
  },
  {
   "cell_type": "code",
   "execution_count": null,
   "id": "15fe910d",
   "metadata": {},
   "outputs": [],
   "source": [
    "# save\n",
    "nx.write_gexf(retweet_graph, \"network/retweet.gexf\")"
   ]
  },
  {
   "cell_type": "markdown",
   "id": "1bbafe74",
   "metadata": {},
   "source": [
    "## CREATE NETWORK LIKE AND MENTION\n",
    "Warning: network like is slightly different from the others, since the information about likes is obtained in a different way w.r.t. reply, mention and retweet"
   ]
  },
  {
   "cell_type": "code",
   "execution_count": null,
   "id": "098af170",
   "metadata": {},
   "outputs": [],
   "source": [
    "edges_list = pd.read_csv(base_path + \"network_likes.csv\", sep=\";\").apply(lambda x: \n",
    "                                                                         str(x[0]) + \" \" + str(x[1]) + \" {'weight': \" + str(x[2]) + \"}\", axis=1)\n",
    "like_graph = nx.parse_edgelist(edges_list)\n",
    "\n",
    "\n",
    "edges_list = pd.read_csv(base_path + \"network_mentions.csv\", sep=\";\").apply(lambda x: \n",
    "                                                                         str(x[0]) + \" \" + str(x[1]) + \" {'weight': \" + str(x[2]) + \"}\", axis=1)\n",
    "mention_graph = nx.parse_edgelist(edges_list)"
   ]
  },
  {
   "cell_type": "markdown",
   "id": "5ddf9717",
   "metadata": {},
   "source": [
    "## REMOVE SELF-LOOP EDGES"
   ]
  },
  {
   "cell_type": "code",
   "execution_count": null,
   "id": "f429bc12",
   "metadata": {},
   "outputs": [],
   "source": [
    "retweet_graph.remove_edges_from(nx.selfloop_edges(retweet_graph))\n",
    "reply_graph.remove_edges_from(nx.selfloop_edges(reply_graph))\n",
    "like_graph.remove_edges_from(nx.selfloop_edges(like_graph))\n",
    "mention_graph.remove_edges_from(nx.selfloop_edges(mention_graph))"
   ]
  },
  {
   "cell_type": "markdown",
   "id": "865a8cbb",
   "metadata": {},
   "source": [
    "## NETWORK DESCRIPTION"
   ]
  },
  {
   "cell_type": "code",
   "execution_count": null,
   "id": "549eb39d",
   "metadata": {},
   "outputs": [],
   "source": [
    "print(\"-\" * 10, \"REPLY\", \"-\" * 10)\n",
    "graph_statistics(reply_graph, plot=False)\n",
    "print(\"-\" * 10, \"RETWEET\", \"-\" * 10)\n",
    "graph_statistics(retweet_graph, plot=False)\n",
    "print(\"-\" * 10, \"MENTION\", \"-\" * 10)\n",
    "graph_statistics(mention_graph, plot=False)\n",
    "print(\"-\" * 10, \"LIKE\", \"-\" * 10)\n",
    "graph_statistics(like_graph, plot=False)"
   ]
  },
  {
   "cell_type": "code",
   "execution_count": null,
   "id": "e2f06674",
   "metadata": {},
   "outputs": [],
   "source": [
    "# get information about ego networks\n",
    "def ego(graph, nodes):\n",
    "    print(\"EGO ANALYSIS ON\", nodes)\n",
    "    density = 0\n",
    "    clustering = 0\n",
    "    for n in nodes:\n",
    "        e = nx.ego_graph(graph, n)\n",
    "        c = nx.average_clustering(e)\n",
    "        d = nx.density(e)\n",
    "        density += d\n",
    "        clustering += c\n",
    "        print(n, \"nodes\", len(e.nodes), \"density\", round(d, 3), \"clustering\", round(c, 3))\n",
    "    return {\"mean_density\": round(density / len(nodes), 3), \n",
    "            \"mean_clustering\": round(clustering / len(nodes), 3)}\n",
    "\n",
    "# get max component of graph\n",
    "def get_max_component(graph):\n",
    "    Gcc = sorted(nx.connected_components(graph), key=len, reverse=True)\n",
    "    return graph.subgraph(Gcc[0])"
   ]
  },
  {
   "cell_type": "code",
   "execution_count": null,
   "id": "a37d9c81",
   "metadata": {},
   "outputs": [],
   "source": [
    "reply_common = centrality(reply_graph)\n",
    "# insert users as second parameter of the \"ego\" function\n",
    "print(ego(reply_graph, []))"
   ]
  },
  {
   "cell_type": "code",
   "execution_count": null,
   "id": "e99aec37",
   "metadata": {},
   "outputs": [],
   "source": [
    "retweet_common = centrality(retweet_graph)\n",
    "print(ego(retweet_graph, []))"
   ]
  },
  {
   "cell_type": "code",
   "execution_count": null,
   "id": "6b104fd8",
   "metadata": {},
   "outputs": [],
   "source": []
  }
 ],
 "metadata": {
  "kernelspec": {
   "display_name": "Python 3 (ipykernel)",
   "language": "python",
   "name": "python3"
  },
  "language_info": {
   "codemirror_mode": {
    "name": "ipython",
    "version": 3
   },
   "file_extension": ".py",
   "mimetype": "text/x-python",
   "name": "python",
   "nbconvert_exporter": "python",
   "pygments_lexer": "ipython3",
   "version": "3.9.5"
  }
 },
 "nbformat": 4,
 "nbformat_minor": 5
}
